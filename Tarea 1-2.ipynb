{
 "cells": [
  {
   "cell_type": "markdown",
   "id": "e01b1be8",
   "metadata": {},
   "source": [
    "## 1) Consiga el conjunto de datos iris.csv."
   ]
  },
  {
   "cell_type": "code",
   "execution_count": 8,
   "id": "59a930b2",
   "metadata": {},
   "outputs": [],
   "source": [
    "import pandas as pd\n",
    "import numpy as np\n",
    "# Forma 1: descargando los datos de un .csv local\n",
    "# iris = pd.read_csv('iris.csv')\n",
    "# iris.head()\n",
    "\n",
    "# Forma 2:\n",
    "from sklearn.datasets import load_iris\n",
    "\n",
    "# Cargamos el dataset iris\n",
    "iris = load_iris()\n"
   ]
  },
  {
   "cell_type": "markdown",
   "id": "f63d646f",
   "metadata": {},
   "source": [
    "## 2) Clase con funcionalidades\n",
    "    \n",
    "        3.1) Al instanciar un objeto, lee un conjunto de datos numéricos. Por ejemplo puede usar el mismo conjunto de datos iris.csv. Instancie los datos en un dataframe de Pandas.\n",
    "\n",
    "    3.2) Implemente un método que calcule las estadísticas descriptivas básicas de cada una de las variables (sepal.length, sepal.width, petal.length, etc)\n",
    "\n",
    "    3.3) Implemente un método que entregue los nombre de las variables disponibles.\n",
    "\n",
    "    3.3) Implemente un método que reciba el nombre de una variable disponible dentro del objeto (en el dataframe) y regrese: sus estadísticas básicas: media, mediana, desviación, percentiles q25, q50, q75 y dibuje un histograma de la distribución de la variable."
   ]
  },
  {
   "cell_type": "code",
   "execution_count": 9,
   "id": "afc471ac",
   "metadata": {},
   "outputs": [],
   "source": [
    "import matplotlib.pyplot as plt\n",
    "\n",
    "class Estadisticas:\n",
    "    def __init__(self, dataset):\n",
    "        self.dataset = pd.DataFrame(data=dataset.data, columns=dataset.feature_names)\n",
    "    \n",
    "    def descriptivas(self):\n",
    "        '''describe() estadísticas descriptivas básicas para \n",
    "        todas las columnas numéricas'''\n",
    "        return self.dataset.describe()\n",
    "    \n",
    "    def nombres(self):\n",
    "        # nombres de las columnas\n",
    "        return list(self.dataset.columns)\n",
    "    \n",
    "    def variable(self, name):\n",
    "        # estadísticas descriptivas por columnas\n",
    "        if name in self.dataset.columns:\n",
    "            column = self.dataset[name]\n",
    "            count = column.count()\n",
    "            mean = column.mean()\n",
    "            median = column.median()\n",
    "            std = column.std()\n",
    "            q25 = column.quantile(0.25)\n",
    "            q50 = column.quantile(0.50)\n",
    "            q75 = column.quantile(0.75)\n",
    "            \n",
    "            print(name)\n",
    "            print(f'Registros no nulos: {count}')\n",
    "            print(f'Media: {mean}')\n",
    "            print(f'Mediana: {median}')\n",
    "            print(f'Desviación estándar: {std}')\n",
    "            print(f'Percentil 25: {q25}')\n",
    "            print(f'Percentil 50 (Mediana): {q50}')\n",
    "            print(f'Percentil 75: {q75}')\n",
    "            \n",
    "            # Histograma\n",
    "            plt.figure(figsize=(8, 6))\n",
    "            plt.hist(column, bins=20, color='skyblue', edgecolor='black')\n",
    "            plt.xlabel(name)\n",
    "            plt.ylabel('Frecuencia')\n",
    "            plt.title(f'Histograma de {name}')\n",
    "            plt.show()\n",
    "        else:\n",
    "            print(f'Variable {name} no encontrada.')"
   ]
  },
  {
   "cell_type": "markdown",
   "id": "82829a7e",
   "metadata": {},
   "source": [
    "Método de las estadísticas descriptivas de las variables por columnas"
   ]
  },
  {
   "cell_type": "code",
   "execution_count": 10,
   "id": "32d29223",
   "metadata": {},
   "outputs": [
    {
     "data": {
      "text/html": [
       "<div>\n",
       "<style scoped>\n",
       "    .dataframe tbody tr th:only-of-type {\n",
       "        vertical-align: middle;\n",
       "    }\n",
       "\n",
       "    .dataframe tbody tr th {\n",
       "        vertical-align: top;\n",
       "    }\n",
       "\n",
       "    .dataframe thead th {\n",
       "        text-align: right;\n",
       "    }\n",
       "</style>\n",
       "<table border=\"1\" class=\"dataframe\">\n",
       "  <thead>\n",
       "    <tr style=\"text-align: right;\">\n",
       "      <th></th>\n",
       "      <th>sepal length (cm)</th>\n",
       "      <th>sepal width (cm)</th>\n",
       "      <th>petal length (cm)</th>\n",
       "      <th>petal width (cm)</th>\n",
       "    </tr>\n",
       "  </thead>\n",
       "  <tbody>\n",
       "    <tr>\n",
       "      <th>count</th>\n",
       "      <td>150.000000</td>\n",
       "      <td>150.000000</td>\n",
       "      <td>150.000000</td>\n",
       "      <td>150.000000</td>\n",
       "    </tr>\n",
       "    <tr>\n",
       "      <th>mean</th>\n",
       "      <td>5.843333</td>\n",
       "      <td>3.057333</td>\n",
       "      <td>3.758000</td>\n",
       "      <td>1.199333</td>\n",
       "    </tr>\n",
       "    <tr>\n",
       "      <th>std</th>\n",
       "      <td>0.828066</td>\n",
       "      <td>0.435866</td>\n",
       "      <td>1.765298</td>\n",
       "      <td>0.762238</td>\n",
       "    </tr>\n",
       "    <tr>\n",
       "      <th>min</th>\n",
       "      <td>4.300000</td>\n",
       "      <td>2.000000</td>\n",
       "      <td>1.000000</td>\n",
       "      <td>0.100000</td>\n",
       "    </tr>\n",
       "    <tr>\n",
       "      <th>25%</th>\n",
       "      <td>5.100000</td>\n",
       "      <td>2.800000</td>\n",
       "      <td>1.600000</td>\n",
       "      <td>0.300000</td>\n",
       "    </tr>\n",
       "    <tr>\n",
       "      <th>50%</th>\n",
       "      <td>5.800000</td>\n",
       "      <td>3.000000</td>\n",
       "      <td>4.350000</td>\n",
       "      <td>1.300000</td>\n",
       "    </tr>\n",
       "    <tr>\n",
       "      <th>75%</th>\n",
       "      <td>6.400000</td>\n",
       "      <td>3.300000</td>\n",
       "      <td>5.100000</td>\n",
       "      <td>1.800000</td>\n",
       "    </tr>\n",
       "    <tr>\n",
       "      <th>max</th>\n",
       "      <td>7.900000</td>\n",
       "      <td>4.400000</td>\n",
       "      <td>6.900000</td>\n",
       "      <td>2.500000</td>\n",
       "    </tr>\n",
       "  </tbody>\n",
       "</table>\n",
       "</div>"
      ],
      "text/plain": [
       "       sepal length (cm)  sepal width (cm)  petal length (cm)  \\\n",
       "count         150.000000        150.000000         150.000000   \n",
       "mean            5.843333          3.057333           3.758000   \n",
       "std             0.828066          0.435866           1.765298   \n",
       "min             4.300000          2.000000           1.000000   \n",
       "25%             5.100000          2.800000           1.600000   \n",
       "50%             5.800000          3.000000           4.350000   \n",
       "75%             6.400000          3.300000           5.100000   \n",
       "max             7.900000          4.400000           6.900000   \n",
       "\n",
       "       petal width (cm)  \n",
       "count        150.000000  \n",
       "mean           1.199333  \n",
       "std            0.762238  \n",
       "min            0.100000  \n",
       "25%            0.300000  \n",
       "50%            1.300000  \n",
       "75%            1.800000  \n",
       "max            2.500000  "
      ]
     },
     "execution_count": 10,
     "metadata": {},
     "output_type": "execute_result"
    }
   ],
   "source": [
    "iris = Estadisticas(iris)\n",
    "iris.descriptivas()  "
   ]
  },
  {
   "cell_type": "markdown",
   "id": "42f1ee3a",
   "metadata": {},
   "source": [
    "Método de nombre de las variables"
   ]
  },
  {
   "cell_type": "code",
   "execution_count": 11,
   "id": "3b422037",
   "metadata": {},
   "outputs": [
    {
     "data": {
      "text/plain": [
       "['sepal length (cm)',\n",
       " 'sepal width (cm)',\n",
       " 'petal length (cm)',\n",
       " 'petal width (cm)']"
      ]
     },
     "execution_count": 11,
     "metadata": {},
     "output_type": "execute_result"
    }
   ],
   "source": [
    "iris.nombres()"
   ]
  },
  {
   "cell_type": "markdown",
   "id": "a43b8a0d",
   "metadata": {},
   "source": [
    "Método de las estadísticas descriptivas de una variable en particular"
   ]
  },
  {
   "cell_type": "code",
   "execution_count": 12,
   "id": "805f7bcb",
   "metadata": {},
   "outputs": [
    {
     "name": "stdout",
     "output_type": "stream",
     "text": [
      "petal length (cm)\n",
      "Registros no nulos: 150\n",
      "Media: 3.7580000000000005\n",
      "Mediana: 4.35\n",
      "Desviación estándar: 1.7652982332594667\n",
      "Percentil 25: 1.6\n",
      "Percentil 50 (Mediana): 4.35\n",
      "Percentil 75: 5.1\n"
     ]
    },
    {
     "data": {
      "image/png": "[encoded data removed]",
      "text/plain": [
       "<Figure size 800x600 with 1 Axes>"
      ]
     },
     "metadata": {},
     "output_type": "display_data"
    }
   ],
   "source": [
    "iris.variable(name = \"petal length (cm)\")"
   ]
  }
 ],
 "metadata": {
  "kernelspec": {
   "display_name": "Python 3 (ipykernel)",
   "language": "python",
   "name": "python3"
  },
  "language_info": {
   "codemirror_mode": {
    "name": "ipython",
    "version": 3
   },
   "file_extension": ".py",
   "mimetype": "text/x-python",
   "name": "python",
   "nbconvert_exporter": "python",
   "pygments_lexer": "ipython3",
   "version": "3.8.12"
  }
 },
 "nbformat": 4,
 "nbformat_minor": 5
}
